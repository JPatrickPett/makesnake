{
 "cells": [
  {
   "cell_type": "markdown",
   "id": "31208810-0e01-4550-bb41-9d90f99c66c1",
   "metadata": {},
   "source": [
    "# Title"
   ]
  },
  {
   "cell_type": "code",
   "execution_count": 1,
   "id": "d7b3a036-ac2d-4f7d-ab70-3892c99c9b05",
   "metadata": {
    "tags": []
   },
   "outputs": [],
   "source": [
    "import gc\n",
    "import logging as log\n",
    "\n",
    "from pathlib import Path\n",
    "\n",
    "import numpy as np\n",
    "import scipy as sc\n",
    "import pandas as pd\n",
    "\n",
    "import scanpy as sc\n",
    "\n",
    "import matplotlib.pyplot as plt\n",
    "import seaborn as sns\n",
    "\n",
    "from IPython.display import display, Markdown"
   ]
  },
  {
   "cell_type": "code",
   "execution_count": 8,
   "id": "237b2ad9-ae22-4624-a559-730253a1a2b7",
   "metadata": {},
   "outputs": [],
   "source": [
    "plt.rcParams['axes.linewidth'] = 1.25\n",
    "\n",
    "# plot text as text\n",
    "plt.rcParams['pdf.fonttype'] = 42\n",
    "plt.rcParams['ps.fonttype'] = 42\n",
    "plt.rcParams['svg.fonttype'] = \"none\""
   ]
  },
  {
   "cell_type": "markdown",
   "id": "1913d2e8-5cf4-4c4c-a8c7-094e41c5220b",
   "metadata": {},
   "source": [
    "custom functions"
   ]
  },
  {
   "cell_type": "code",
   "execution_count": 2,
   "id": "3fec769b-ced2-41b0-aa66-bf2305cad219",
   "metadata": {},
   "outputs": [],
   "source": [
    "# from importlib import reload\n",
    "# import util\n",
    "# util = reload(util)\n",
    "\n",
    "from util import *"
   ]
  },
  {
   "cell_type": "markdown",
   "id": "61607a2b-855d-4e49-b6de-abb7ee045f27",
   "metadata": {},
   "source": [
    "setup logging"
   ]
  },
  {
   "cell_type": "code",
   "execution_count": null,
   "id": "77890b41-a0e9-4799-96b9-30a5ebe90cf2",
   "metadata": {
    "tags": []
   },
   "outputs": [],
   "source": [
    "# setup logging\n",
    "logger = log.getLogger()\n",
    "\n",
    "if not Path(str(snakemake.output[0])).is_file():\n",
    "    formatter = log.Formatter('[%(levelname)s - %(name)s - %(asctime)s]: %(message)s')\n",
    "    fhandler = log.FileHandler(filename=str(snakemake.log.logging), mode='a'); fhandler.setFormatter(formatter)\n",
    "    fhandler2 = log.StreamHandler(); fhandler2.setFormatter(formatter)\n",
    "    logger.addHandler(fhandler); logger.addHandler(fhandler2)\n",
    "    logger.setLevel(log.DEBUG); fhandler2.setLevel(log.INFO)\n",
    "else:\n",
    "    logger.setLevel(log.INFO)\n",
    "    \n",
    "# numba prints a large number of debug messages, disable in any case\n",
    "numba_logger = log.getLogger('numba')\n",
    "numba_logger.setLevel(log.WARNING)"
   ]
  },
  {
   "cell_type": "markdown",
   "id": "a72477e5-0d4c-47aa-993f-52f65b79f5e6",
   "metadata": {},
   "source": [
    "## Params"
   ]
  },
  {
   "cell_type": "code",
   "execution_count": null,
   "id": "3c9472c7-a6c3-4474-a1e2-55d77dcb92ba",
   "metadata": {},
   "outputs": [],
   "source": [
    "# input in_path: </path/to/infile.txt>\n",
    "# output out_path: </path/to/outfile.txt>\n",
    "# params number: <123>\n",
    "# params string: <text>\n",
    "# params a_list: <[\"a\", \"b\", \"c\"]>"
   ]
  },
  {
   "cell_type": "code",
   "execution_count": 48,
   "id": "79fe4944-e4e4-4cd8-8877-7f1ec7a3f31b",
   "metadata": {},
   "outputs": [],
   "source": [
    "## input\n",
    "in_path = str(snakemake.input.in_path)\n",
    "\n",
    "## output\n",
    "out_path = str(snakemake.output.out_path)\n",
    "\n",
    "## params\n",
    "number = float(snakemake.params.number)\n",
    "string = str(snakemake.params.string)\n",
    "a_list = list(snakemake.params.a_list)"
   ]
  },
  {
   "cell_type": "markdown",
   "id": "0d63e898-5048-4128-8b12-ce460bf9bb9a",
   "metadata": {},
   "source": [
    "display parameters"
   ]
  },
  {
   "cell_type": "code",
   "execution_count": null,
   "id": "69eb2e6b-e1af-4dd1-a055-d133b54c8812",
   "metadata": {
    "tags": []
   },
   "outputs": [],
   "source": [
    "get_pstr = lambda x: \"\\n\".join(f\"  - *{pname}:* **{pval}**\" for pname, pval in x.items())\n",
    "pstr = \"\\n\".join([\"info:\", f\"- rule: {snakemake.rule}\", f\"- scriptdir: {snakemake.scriptdir}\", \"\"])\n",
    "pstr += \"\\n\".join([\"- *input:*\", get_pstr(snakemake.input), \"- *output:*\", get_pstr(snakemake.output), \"- *params:*\", get_pstr(snakemake.params)])\n",
    "display(Markdown(pstr))"
   ]
  },
  {
   "cell_type": "markdown",
   "id": "7cc4074a-d3f0-429b-95e5-8139ddbc4b16",
   "metadata": {},
   "source": [
    "## 1) Load"
   ]
  },
  {
   "cell_type": "code",
   "execution_count": null,
   "id": "10b39daf-3768-4239-b105-0c09329f2b6e",
   "metadata": {},
   "outputs": [],
   "source": []
  },
  {
   "cell_type": "markdown",
   "id": "422dd138-5bd1-4fd4-81b6-2dcb4e7c8b6d",
   "metadata": {},
   "source": [
    "## 2) Compute"
   ]
  },
  {
   "cell_type": "code",
   "execution_count": null,
   "id": "7112d007-ceb4-4859-8bda-72c7235d789b",
   "metadata": {},
   "outputs": [],
   "source": []
  },
  {
   "cell_type": "markdown",
   "id": "05c1fac3-a9a8-4e28-9854-d603a73b2d68",
   "metadata": {},
   "source": [
    "## 3) Save"
   ]
  },
  {
   "cell_type": "code",
   "execution_count": null,
   "id": "35ba693f-73b0-4f76-8d93-0fcc0798975b",
   "metadata": {},
   "outputs": [],
   "source": []
  }
 ],
 "metadata": {
  "kernelspec": {
   "display_name": "Python 3 (ipykernel)",
   "language": "python",
   "name": "python3"
  },
  "language_info": {
   "codemirror_mode": {
    "name": "ipython",
    "version": 3
   },
   "file_extension": ".py",
   "mimetype": "text/x-python",
   "name": "python",
   "nbconvert_exporter": "python",
   "pygments_lexer": "ipython3",
   "version": "3.11.3"
  }
 },
 "nbformat": 4,
 "nbformat_minor": 5
}
